{
 "cells": [
  {
   "cell_type": "markdown",
   "metadata": {},
   "source": [
    "# CPython Development"
   ]
  },
  {
   "cell_type": "markdown",
   "metadata": {},
   "source": [
    "## Allison Kaptur's high level overview of CPython's Byterun\n",
    "\n",
    "Allison Kaptur's PyCon talk on Byterun\n",
    "https://www.youtube.com/watch?v=HVUTjQzESeo\n",
    "\n",
    "Byterun with Ned Batchelder\n",
    "\n",
    "TODO: Break up info in talk"
   ]
  },
  {
   "cell_type": "markdown",
   "metadata": {},
   "source": [
    "## [Philip Guo](http://pgbovine.net/) lecture series\n",
    "\n",
    "[CPython Internals](http://pgbovine.net/cpython-internals.htm) lecture series from 2014\n",
    "as part of a [course on dynamic programming language](http://courses.pgbovine.net/csc253/). \n",
    "\n",
    "Code to follow along based on Python 2.7.8.\n",
    "\n",
    "One hour podcast describing the course: \n",
    "\n",
    "* Lecture 1 - Interpreter and source code overview\n",
    "* Lecture 2 - Opcodes and main interpreter loop\n",
    "* Lecture 3 - Frames, function calls, and scope\n",
    "* Lecture 4 - PyObject: The core Python object\n",
    "* Lecture 5 - Example Python data types\n",
    "* Lecture 6 - Code objects, function objects, and closures\n",
    "* Lecture 7 - Iterators\n",
    "* Lecture 8 - User-defined classes and objects\n",
    "* Lecture 9 - Generators\n",
    "\n",
    "TODO: Add links to videos"
   ]
  },
  {
   "cell_type": "markdown",
   "metadata": {
    "collapsed": true
   },
   "source": [
    "## Helpful resources\n",
    "\n",
    "[View CPython source code in your browser](https://hg.python.org/cpython/file/tip)\n",
    "\n",
    "\n"
   ]
  },
  {
   "cell_type": "code",
   "execution_count": null,
   "metadata": {
    "collapsed": true
   },
   "outputs": [],
   "source": []
  }
 ],
 "metadata": {
  "kernelspec": {
   "display_name": "Python 3",
   "language": "python",
   "name": "python3"
  },
  "language_info": {
   "codemirror_mode": {
    "name": "ipython",
    "version": 3
   },
   "file_extension": ".py",
   "mimetype": "text/x-python",
   "name": "python",
   "nbconvert_exporter": "python",
   "pygments_lexer": "ipython3",
   "version": "3.5.0"
  }
 },
 "nbformat": 4,
 "nbformat_minor": 0
}
