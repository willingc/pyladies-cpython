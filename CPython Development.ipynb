{
 "cells": [
  {
   "cell_type": "markdown",
   "metadata": {},
   "source": [
    "# CPython Development"
   ]
  },
  {
   "cell_type": "markdown",
   "metadata": {},
   "source": [
    "## High level ideas behind CPython\n",
    "\n",
    "Allison Kaptur's PyCon talk on Byterun\n",
    "https://www.youtube.com/watch?v=HVUTjQzESeo\n",
    "\n",
    "Byterun with Ned Batchelder\n",
    "\n",
    "TODO: Break up info in talk"
   ]
  },
  {
   "cell_type": "markdown",
   "metadata": {},
   "source": [
    "## [Philip Guo](http://pgbovine.net/) lecture series\n",
    "\n",
    "[CPython Internals](http://pgbovine.net/cpython-internals.htm) lecture series from 2014\n",
    "as part of a [course on dynamic programming language](http://courses.pgbovine.net/csc253/). \n",
    "\n",
    "Code to follow along based on Python 2.7.8.\n",
    "\n",
    "One hour podcast describing the course: \n",
    "\n",
    "* Lecture 1 - Interpreter and source code overview\n",
    "* Lecture 2 - Opcodes and main interpreter loop\n",
    "* Lecture 3 - Frames, function calls, and scope\n",
    "* Lecture 4 - PyObject: The core Python object\n",
    "* Lecture 5 - Example Python data types\n",
    "* Lecture 6 - Code objects, function objects, and closures\n",
    "* Lecture 7 - Iterators\n",
    "* Lecture 8 - User-defined classes and objects\n",
    "* Lecture 9 - Generators\n",
    "\n",
    "TODO: Add links to videos"
   ]
  },
  {
   "cell_type": "markdown",
   "metadata": {},
   "source": [
    "### Lecture 1\n",
    "\n",
    "Walk through the source code of Python 2.7.8\n",
    "* Need a text editor\n",
    "\n",
    "Read: Do not need to run.\n",
    "\n",
    "Useful to be able to compile and run. Add print statements to see how things work.\n",
    "Coverage tool can help you determine which lines were actually executed.\n",
    "\n",
    "[Python is an interpreted language](https://youtu.be/LhadeL7_EIU?t=2m31s)\n",
    "* What happens when you run ``python test.py``\n",
    "\n",
    "[What magic is happening when ``python`` runs?](https://youtu.be/LhadeL7_EIU?t=5m)\n",
    "* python executable is a program. It is called CPython interpreter. Official.\n",
    "* Other interpreters are PyPy, Jython, Skulpt.\n",
    "* Python is a language.\n",
    "* Two major versions of Python: version 2 and version 3\n",
    "* CPython is a bunch of source code files. Many are C source files (.c) and header files (.h). Compiled by a C compiler (gcc) and created binary executable called ``python``."
   ]
  },
  {
   "cell_type": "markdown",
   "metadata": {},
   "source": [
    "[Course focuses on CPython files](https://youtu.be/LhadeL7_EIU?t=9m00s)\n",
    "\n",
    "Just a program. What do use to compile the compiler until the first C compiler was written in assembly language.\n"
   ]
  },
  {
   "cell_type": "markdown",
   "metadata": {},
   "source": [
    "Going from Python source code (test.py)\n",
    "**compiler**\n",
    "bytecode\n",
    "**interpreter**\n",
    "output\n",
    "\n",
    "* bytecode is a different format than source code.\n",
    "* interpreter works on the bytecode\n",
    "\n",
    "Course focuses on going from *bytecode* through **interpreter** to *output*\n"
   ]
  },
  {
   "cell_type": "markdown",
   "metadata": {},
   "source": [
    "[Walk through the source code of the main dynamic parts of CPython which is the **interpreter**](https://youtu.be/LhadeL7_EIU?t=13m52s)\n",
    "\n",
    "Looking through the source code\n",
    "* Source code tree (look at with an editor with syntax highlighting)\n",
    "* Two main subdirectories ``Include`` (.h) and ``Objects`` (.c)\n",
    "* ``Python`` directory - main runtime\n",
    "* ``Modules`` directory - standard library functionality yet not core to the interpreter\n",
    "* ``Lib`` directory - all the standard library modules implemented in Python\n",
    "\n",
    "Next time: Walk through the ``Include`` and ``Objects`` files.\n",
    "`ceval.c` is [main interpreter loop](https://youtu.be/LhadeL7_EIU?t=19m)."
   ]
  },
  {
   "cell_type": "code",
   "execution_count": null,
   "metadata": {
    "collapsed": true
   },
   "outputs": [],
   "source": []
  }
 ],
 "metadata": {
  "kernelspec": {
   "display_name": "Python 3",
   "language": "python",
   "name": "python3"
  },
  "language_info": {
   "codemirror_mode": {
    "name": "ipython",
    "version": 3
   },
   "file_extension": ".py",
   "mimetype": "text/x-python",
   "name": "python",
   "nbconvert_exporter": "python",
   "pygments_lexer": "ipython3",
   "version": "3.5.0"
  }
 },
 "nbformat": 4,
 "nbformat_minor": 0
}
