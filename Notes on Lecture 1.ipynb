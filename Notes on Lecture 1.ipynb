{
 "cells": [
  {
   "cell_type": "markdown",
   "metadata": {},
   "source": [
    "# Notes on Lecture 1 - Interpreter and source code overview"
   ]
  },
  {
   "cell_type": "markdown",
   "metadata": {},
   "source": [
    "## Background\n",
    "\n",
    "[Philip Guo](http://pgbovine.net/) lecture series\n",
    "\n",
    "[CPython Internals](http://pgbovine.net/cpython-internals.htm) lecture series from 2014\n",
    "as part of a [course on dynamic programming language](http://courses.pgbovine.net/csc253/). "
   ]
  },
  {
   "cell_type": "markdown",
   "metadata": {},
   "source": [
    "## Introduction\n",
    "\n",
    "Walk through the source code of Python 2.7.8\n",
    "* Need a text editor\n",
    "\n",
    "Read: Do not need to run.\n",
    "\n",
    "Useful to be able to compile and run. Add print statements to see how things work.\n",
    "Coverage tool can help you determine which lines were actually executed."
   ]
  },
  {
   "cell_type": "markdown",
   "metadata": {},
   "source": [
    "## Python is an interpreted language\n",
    "\n",
    "[Python is an interpreted language](https://youtu.be/LhadeL7_EIU?t=2m31s)\n",
    "* What happens when you run ``python test.py``\n",
    "\n",
    "[What magic is happening when ``python`` runs?](https://youtu.be/LhadeL7_EIU?t=5m)\n",
    "* python executable is a program. It is called CPython interpreter. Official.\n",
    "* Other interpreters are PyPy, Jython, Skulpt.\n",
    "* Python is a language.\n",
    "* Two major versions of Python: version 2 and version 3\n",
    "* CPython is a bunch of source code files. Many are C source files (.c) and header files (.h). Compiled by a C compiler (gcc) and created binary executable called ``python``."
   ]
  },
  {
   "cell_type": "markdown",
   "metadata": {},
   "source": [
    "[Course focuses on CPython files](https://youtu.be/LhadeL7_EIU?t=9m00s)\n",
    "\n",
    "Just a program. What do use to compile the compiler until the first C compiler was written in assembly language.\n"
   ]
  },
  {
   "cell_type": "markdown",
   "metadata": {},
   "source": [
    "## Running ``python test.py``\n",
    "When executing ``python test.py``, this happens:\n",
    "\n",
    "*source code* (``test.py``) -->> **compiler** -->> *bytecode* -->> **interpreter** -->> *output*\n",
    "\n",
    "*source code*, *bytecode* and *output* are data. **compiler** and **interpreter** perform actions.\n",
    "- *bytecode* is a different format than *source code*.\n",
    "- **interpreter** works on the *bytecode*\n",
    "\n",
    "The course focuses on going from *bytecode* through **interpreter** to *output*."
   ]
  },
  {
   "cell_type": "markdown",
   "metadata": {},
   "source": [
    "## Looking through the source code\n",
    "\n",
    "[Walk through the source code of the main dynamic parts of CPython which is the **interpreter**](https://youtu.be/LhadeL7_EIU?t=13m52s)\n",
    "\n",
    "\n",
    "* Source code tree (look at with an editor with syntax highlighting)\n",
    "* Two main subdirectories ``Include`` (.h) and ``Objects`` (.c)\n",
    "* ``Python`` directory - main runtime\n",
    "* ``Modules`` directory - standard library functionality yet not core to the interpreter\n",
    "* ``Lib`` directory - all the standard library modules implemented in Python\n",
    "\n",
    "Next time: Walk through the ``Include`` and ``Objects`` files.\n",
    "`ceval.c` is [main interpreter loop](https://youtu.be/LhadeL7_EIU?t=19m)."
   ]
  },
  {
   "cell_type": "markdown",
   "metadata": {
    "collapsed": true
   },
   "source": [
    "## Helpful resources for Lesson 1\n",
    "\n",
    "[View CPython source code in your browser](https://hg.python.org/cpython/file/tip)\n",
    "\n",
    "* [Browse ``Include``](https://hg.python.org/cpython/file/tip/Include)\n",
    "  * [``ceval.h``](https://hg.python.org/cpython/file/tip/Include/ceval.h)\n",
    "* [Browse ``Objects``](https://hg.python.org/cpython/file/tip/Objects)\n",
    "* [Browse ``Python``](https://hg.python.org/cpython/file/tip/Python)\n",
    "  * [``ceval.c``](https://hg.python.org/cpython/file/tip/Python/ceval.c)\n",
    "\n"
   ]
  },
  {
   "cell_type": "code",
   "execution_count": null,
   "metadata": {
    "collapsed": true
   },
   "outputs": [],
   "source": []
  }
 ],
 "metadata": {
  "kernelspec": {
   "display_name": "Python 3",
   "language": "python",
   "name": "python3"
  },
  "language_info": {
   "codemirror_mode": {
    "name": "ipython",
    "version": 3
   },
   "file_extension": ".py",
   "mimetype": "text/x-python",
   "name": "python",
   "nbconvert_exporter": "python",
   "pygments_lexer": "ipython3",
   "version": "3.5.0"
  }
 },
 "nbformat": 4,
 "nbformat_minor": 0
}
